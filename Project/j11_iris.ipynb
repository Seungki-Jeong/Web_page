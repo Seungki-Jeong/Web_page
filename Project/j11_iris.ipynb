{
 "cells": [
  {
   "cell_type": "markdown",
   "metadata": {},
   "source": [
    "# Iris분류"
   ]
  },
  {
   "cell_type": "markdown",
   "metadata": {},
   "source": [
    "#### Logistic Regression"
   ]
  },
  {
   "cell_type": "code",
   "execution_count": 1,
   "metadata": {},
   "outputs": [],
   "source": [
    "import numpy as np\n",
    "import pandas as pd\n",
    "import warnings\n",
    "warnings.filterwarnings('ignore')"
   ]
  },
  {
   "cell_type": "code",
   "execution_count": 2,
   "metadata": {},
   "outputs": [],
   "source": [
    "from sklearn.datasets import load_iris\n",
    "iris = load_iris()"
   ]
  },
  {
   "cell_type": "code",
   "execution_count": 3,
   "metadata": {},
   "outputs": [
    {
     "data": {
      "text/html": [
       "<div>\n",
       "<style scoped>\n",
       "    .dataframe tbody tr th:only-of-type {\n",
       "        vertical-align: middle;\n",
       "    }\n",
       "\n",
       "    .dataframe tbody tr th {\n",
       "        vertical-align: top;\n",
       "    }\n",
       "\n",
       "    .dataframe thead th {\n",
       "        text-align: right;\n",
       "    }\n",
       "</style>\n",
       "<table border=\"1\" class=\"dataframe\">\n",
       "  <thead>\n",
       "    <tr style=\"text-align: right;\">\n",
       "      <th></th>\n",
       "      <th>sepal length (cm)</th>\n",
       "      <th>sepal width (cm)</th>\n",
       "      <th>petal length (cm)</th>\n",
       "      <th>petal width (cm)</th>\n",
       "    </tr>\n",
       "  </thead>\n",
       "  <tbody>\n",
       "    <tr>\n",
       "      <th>0</th>\n",
       "      <td>5.1</td>\n",
       "      <td>3.5</td>\n",
       "      <td>1.4</td>\n",
       "      <td>0.2</td>\n",
       "    </tr>\n",
       "    <tr>\n",
       "      <th>1</th>\n",
       "      <td>4.9</td>\n",
       "      <td>3.0</td>\n",
       "      <td>1.4</td>\n",
       "      <td>0.2</td>\n",
       "    </tr>\n",
       "    <tr>\n",
       "      <th>2</th>\n",
       "      <td>4.7</td>\n",
       "      <td>3.2</td>\n",
       "      <td>1.3</td>\n",
       "      <td>0.2</td>\n",
       "    </tr>\n",
       "    <tr>\n",
       "      <th>3</th>\n",
       "      <td>4.6</td>\n",
       "      <td>3.1</td>\n",
       "      <td>1.5</td>\n",
       "      <td>0.2</td>\n",
       "    </tr>\n",
       "    <tr>\n",
       "      <th>4</th>\n",
       "      <td>5.0</td>\n",
       "      <td>3.6</td>\n",
       "      <td>1.4</td>\n",
       "      <td>0.2</td>\n",
       "    </tr>\n",
       "  </tbody>\n",
       "</table>\n",
       "</div>"
      ],
      "text/plain": [
       "   sepal length (cm)  sepal width (cm)  petal length (cm)  petal width (cm)\n",
       "0                5.1               3.5                1.4               0.2\n",
       "1                4.9               3.0                1.4               0.2\n",
       "2                4.7               3.2                1.3               0.2\n",
       "3                4.6               3.1                1.5               0.2\n",
       "4                5.0               3.6                1.4               0.2"
      ]
     },
     "execution_count": 3,
     "metadata": {},
     "output_type": "execute_result"
    }
   ],
   "source": [
    "# data, target, target_name, feature_names, DESCR\n",
    "data = iris.data\n",
    "label = iris.target\n",
    "columns = iris.feature_names\n",
    "\n",
    "df = pd.DataFrame(data, columns = columns)\n",
    "df.head()"
   ]
  },
  {
   "cell_type": "code",
   "execution_count": 4,
   "metadata": {},
   "outputs": [],
   "source": [
    "from sklearn.model_selection import train_test_split\n",
    "x_train, x_test, y_train, y_test = train_test_split(data, label, test_size = 0.2,\n",
    "                                                    shuffle = True, stratify\n",
    "                                                    = label,\n",
    "                                                    random_state = 2019)"
   ]
  },
  {
   "cell_type": "markdown",
   "metadata": {},
   "source": [
    "- 모델 객체 생성"
   ]
  },
  {
   "cell_type": "code",
   "execution_count": 5,
   "metadata": {},
   "outputs": [],
   "source": [
    "from sklearn.linear_model import LogisticRegression\n",
    "lr = LogisticRegression(verbose = 1)"
   ]
  },
  {
   "cell_type": "markdown",
   "metadata": {},
   "source": [
    "- 모델 학습"
   ]
  },
  {
   "cell_type": "code",
   "execution_count": 6,
   "metadata": {},
   "outputs": [
    {
     "name": "stderr",
     "output_type": "stream",
     "text": [
      "[Parallel(n_jobs=1)]: Using backend SequentialBackend with 1 concurrent workers.\n",
      "[Parallel(n_jobs=1)]: Done   1 out of   1 | elapsed:    0.0s finished\n"
     ]
    },
    {
     "data": {
      "text/plain": [
       "LogisticRegression(verbose=1)"
      ]
     },
     "execution_count": 6,
     "metadata": {},
     "output_type": "execute_result"
    }
   ],
   "source": [
    "lr.fit(x_train, y_train)"
   ]
  },
  {
   "cell_type": "markdown",
   "metadata": {},
   "source": [
    "- 학습한 결과를 저장"
   ]
  },
  {
   "cell_type": "code",
   "execution_count": 9,
   "metadata": {},
   "outputs": [
    {
     "data": {
      "text/plain": [
       "['model/iris_lr.pkl']"
      ]
     },
     "execution_count": 9,
     "metadata": {},
     "output_type": "execute_result"
    }
   ],
   "source": [
    "import joblib\n",
    "joblib.dump(lr, 'model/iris_lr.pkl')"
   ]
  },
  {
   "cell_type": "code",
   "execution_count": null,
   "metadata": {},
   "outputs": [],
   "source": []
  },
  {
   "cell_type": "code",
   "execution_count": 10,
   "metadata": {},
   "outputs": [],
   "source": [
    "from sklearn.svm import SVC"
   ]
  },
  {
   "cell_type": "code",
   "execution_count": 18,
   "metadata": {},
   "outputs": [],
   "source": [
    "svm = SVC()"
   ]
  },
  {
   "cell_type": "code",
   "execution_count": 19,
   "metadata": {},
   "outputs": [
    {
     "data": {
      "text/plain": [
       "SVC()"
      ]
     },
     "execution_count": 19,
     "metadata": {},
     "output_type": "execute_result"
    }
   ],
   "source": [
    "svm.fit(x_train, y_train)"
   ]
  },
  {
   "cell_type": "code",
   "execution_count": 20,
   "metadata": {},
   "outputs": [
    {
     "data": {
      "text/plain": [
       "['model/iris_svm.pkl']"
      ]
     },
     "execution_count": 20,
     "metadata": {},
     "output_type": "execute_result"
    }
   ],
   "source": [
    "joblib.dump(svm, 'model/iris_svm.pkl')"
   ]
  },
  {
   "cell_type": "markdown",
   "metadata": {},
   "source": [
    "### Decision Tree"
   ]
  },
  {
   "cell_type": "code",
   "execution_count": 14,
   "metadata": {},
   "outputs": [],
   "source": [
    "from sklearn.tree import DecisionTreeClassifier"
   ]
  },
  {
   "cell_type": "code",
   "execution_count": 21,
   "metadata": {},
   "outputs": [],
   "source": [
    "dt = DecisionTreeClassifier()"
   ]
  },
  {
   "cell_type": "code",
   "execution_count": 22,
   "metadata": {},
   "outputs": [
    {
     "data": {
      "text/plain": [
       "DecisionTreeClassifier()"
      ]
     },
     "execution_count": 22,
     "metadata": {},
     "output_type": "execute_result"
    }
   ],
   "source": [
    "dt.fit(x_train, y_train)"
   ]
  },
  {
   "cell_type": "code",
   "execution_count": 23,
   "metadata": {},
   "outputs": [
    {
     "data": {
      "text/plain": [
       "['model/iris_dt.pkl']"
      ]
     },
     "execution_count": 23,
     "metadata": {},
     "output_type": "execute_result"
    }
   ],
   "source": [
    "joblib.dump(dt, 'model/iris_dt.pkl')"
   ]
  },
  {
   "cell_type": "markdown",
   "metadata": {},
   "source": [
    "#### 저장된 모델로 결과 예측"
   ]
  },
  {
   "cell_type": "code",
   "execution_count": 40,
   "metadata": {},
   "outputs": [],
   "source": [
    "model_lr = joblib.load('model/iris_lr.pkl')\n",
    "model_svm = joblib.load('model/iris_svm.pkl')\n",
    "model_dt = joblib.load('model/iris_dt.pkl')"
   ]
  },
  {
   "cell_type": "code",
   "execution_count": 41,
   "metadata": {},
   "outputs": [],
   "source": [
    "y_pred_lr = model_lr.predict(x_test)\n",
    "y_pred_svm = model_svm.predict(x_test)\n",
    "y_pred_dt = model_dt.predict(x_test)"
   ]
  },
  {
   "cell_type": "code",
   "execution_count": 42,
   "metadata": {},
   "outputs": [],
   "source": [
    "from sklearn.metrics import accuracy_score"
   ]
  },
  {
   "cell_type": "code",
   "execution_count": 47,
   "metadata": {},
   "outputs": [
    {
     "name": "stdout",
     "output_type": "stream",
     "text": [
      "0.9666666666666667 0.9666666666666667 0.9666666666666667\n"
     ]
    }
   ],
   "source": [
    "acc_lr = accuracy_score(y_test, y_pred_lr)\n",
    "acc_svm = accuracy_score(y_test, y_pred_svm)\n",
    "acc_dt = accuracy_score(y_test, y_pred_dt)\n",
    "print(acc_lr, acc_svm, acc_dt)"
   ]
  },
  {
   "cell_type": "code",
   "execution_count": 48,
   "metadata": {},
   "outputs": [
    {
     "data": {
      "text/html": [
       "<div>\n",
       "<style scoped>\n",
       "    .dataframe tbody tr th:only-of-type {\n",
       "        vertical-align: middle;\n",
       "    }\n",
       "\n",
       "    .dataframe tbody tr th {\n",
       "        vertical-align: top;\n",
       "    }\n",
       "\n",
       "    .dataframe thead th {\n",
       "        text-align: right;\n",
       "    }\n",
       "</style>\n",
       "<table border=\"1\" class=\"dataframe\">\n",
       "  <thead>\n",
       "    <tr style=\"text-align: right;\">\n",
       "      <th></th>\n",
       "      <th>sepal length (cm)</th>\n",
       "      <th>sepal width (cm)</th>\n",
       "      <th>petal length (cm)</th>\n",
       "      <th>petal width (cm)</th>\n",
       "    </tr>\n",
       "  </thead>\n",
       "  <tbody>\n",
       "    <tr>\n",
       "      <th>145</th>\n",
       "      <td>6.7</td>\n",
       "      <td>3.0</td>\n",
       "      <td>5.2</td>\n",
       "      <td>2.3</td>\n",
       "    </tr>\n",
       "    <tr>\n",
       "      <th>146</th>\n",
       "      <td>6.3</td>\n",
       "      <td>2.5</td>\n",
       "      <td>5.0</td>\n",
       "      <td>1.9</td>\n",
       "    </tr>\n",
       "    <tr>\n",
       "      <th>147</th>\n",
       "      <td>6.5</td>\n",
       "      <td>3.0</td>\n",
       "      <td>5.2</td>\n",
       "      <td>2.0</td>\n",
       "    </tr>\n",
       "    <tr>\n",
       "      <th>148</th>\n",
       "      <td>6.2</td>\n",
       "      <td>3.4</td>\n",
       "      <td>5.4</td>\n",
       "      <td>2.3</td>\n",
       "    </tr>\n",
       "    <tr>\n",
       "      <th>149</th>\n",
       "      <td>5.9</td>\n",
       "      <td>3.0</td>\n",
       "      <td>5.1</td>\n",
       "      <td>1.8</td>\n",
       "    </tr>\n",
       "  </tbody>\n",
       "</table>\n",
       "</div>"
      ],
      "text/plain": [
       "     sepal length (cm)  sepal width (cm)  petal length (cm)  petal width (cm)\n",
       "145                6.7               3.0                5.2               2.3\n",
       "146                6.3               2.5                5.0               1.9\n",
       "147                6.5               3.0                5.2               2.0\n",
       "148                6.2               3.4                5.4               2.3\n",
       "149                5.9               3.0                5.1               1.8"
      ]
     },
     "execution_count": 48,
     "metadata": {},
     "output_type": "execute_result"
    }
   ],
   "source": [
    "df.tail()"
   ]
  },
  {
   "cell_type": "code",
   "execution_count": 49,
   "metadata": {},
   "outputs": [],
   "source": [
    "test_data = np.array([6.7, 3.0, 5.2, 2.3]).reshape(1, 4)"
   ]
  },
  {
   "cell_type": "code",
   "execution_count": 50,
   "metadata": {},
   "outputs": [],
   "source": [
    "index_lr = model_lr.predict(test_data)[0]\n",
    "index_svm = model_svm.predict(test_data)[0]\n",
    "index_dt = model_dt.predict(test_data)[0]"
   ]
  },
  {
   "cell_type": "code",
   "execution_count": 52,
   "metadata": {},
   "outputs": [
    {
     "name": "stdout",
     "output_type": "stream",
     "text": [
      "Virginica Virginica Virginica\n"
     ]
    }
   ],
   "source": [
    "sp_names = ['Setosa', 'Versicolor', 'Virginica']\n",
    "print(sp_names[index_lr], sp_names[index_svm], sp_names[index_dt])"
   ]
  },
  {
   "cell_type": "code",
   "execution_count": 60,
   "metadata": {},
   "outputs": [],
   "source": [
    "from tensorflow import keras\n",
    "from keras.models import Sequential\n",
    "from keras.layers import Dense"
   ]
  },
  {
   "cell_type": "code",
   "execution_count": 71,
   "metadata": {},
   "outputs": [
    {
     "name": "stdout",
     "output_type": "stream",
     "text": [
      "Model: \"sequential_3\"\n",
      "_________________________________________________________________\n",
      "Layer (type)                 Output Shape              Param #   \n",
      "=================================================================\n",
      "dense_5 (Dense)              (None, 12)                60        \n",
      "_________________________________________________________________\n",
      "dense_6 (Dense)              (None, 8)                 104       \n",
      "_________________________________________________________________\n",
      "dense_7 (Dense)              (None, 3)                 27        \n",
      "=================================================================\n",
      "Total params: 191\n",
      "Trainable params: 191\n",
      "Non-trainable params: 0\n",
      "_________________________________________________________________\n"
     ]
    }
   ],
   "source": [
    "model = Sequential([\n",
    "    Dense(12, input_shape = (4,), activation = 'relu'),\n",
    "    Dense(8, input_shape = (4,), activation = 'relu'),\n",
    "    Dense(3, activation = 'softmax')\n",
    "])\n",
    "model.summary()"
   ]
  },
  {
   "cell_type": "code",
   "execution_count": 72,
   "metadata": {},
   "outputs": [],
   "source": [
    "model.compile(loss = 'categorical_crossentropy',\n",
    "              optimizer = 'adam',\n",
    "              metrics = ['accuracy'])"
   ]
  },
  {
   "cell_type": "code",
   "execution_count": 73,
   "metadata": {},
   "outputs": [],
   "source": [
    "from keras.callbacks import ModelCheckpoint\n",
    "checkpointer = ModelCheckpoint(filepath = 'model/iris_deep.hdf5',\n",
    "                               monitor = 'val_loss',\n",
    "                               verbose = 1, save_best_only = True)"
   ]
  },
  {
   "cell_type": "code",
   "execution_count": 74,
   "metadata": {},
   "outputs": [
    {
     "data": {
      "text/plain": [
       "(array([1., 0., 0.], dtype=float32),\n",
       " array([0., 0., 1.], dtype=float32),\n",
       " array([0., 0., 1.], dtype=float32))"
      ]
     },
     "execution_count": 74,
     "metadata": {},
     "output_type": "execute_result"
    }
   ],
   "source": [
    "Y_encoded = keras.utils.to_categorical(y_train)\n",
    "Y_encoded[0], Y_encoded[50], Y_encoded[100]"
   ]
  },
  {
   "cell_type": "code",
   "execution_count": 78,
   "metadata": {},
   "outputs": [
    {
     "name": "stdout",
     "output_type": "stream",
     "text": [
      "Train on 96 samples, validate on 24 samples\n",
      "Epoch 1/100\n",
      " - 0s - loss: 1.8728 - accuracy: 0.3438 - val_loss: 1.9124 - val_accuracy: 0.2917\n",
      "\n",
      "Epoch 00001: val_loss improved from inf to 1.91241, saving model to model/iris_deep.hdf5\n",
      "Epoch 2/100\n",
      " - 0s - loss: 1.8023 - accuracy: 0.3438 - val_loss: 1.8364 - val_accuracy: 0.2917\n",
      "\n",
      "Epoch 00002: val_loss improved from 1.91241 to 1.83636, saving model to model/iris_deep.hdf5\n",
      "Epoch 3/100\n",
      " - 0s - loss: 1.7305 - accuracy: 0.3438 - val_loss: 1.7638 - val_accuracy: 0.2917\n",
      "\n",
      "Epoch 00003: val_loss improved from 1.83636 to 1.76384, saving model to model/iris_deep.hdf5\n",
      "Epoch 4/100\n",
      " - 0s - loss: 1.6633 - accuracy: 0.3438 - val_loss: 1.6929 - val_accuracy: 0.2917\n",
      "\n",
      "Epoch 00004: val_loss improved from 1.76384 to 1.69291, saving model to model/iris_deep.hdf5\n",
      "Epoch 5/100\n",
      " - 0s - loss: 1.5989 - accuracy: 0.3438 - val_loss: 1.6257 - val_accuracy: 0.2917\n",
      "\n",
      "Epoch 00005: val_loss improved from 1.69291 to 1.62567, saving model to model/iris_deep.hdf5\n",
      "Epoch 6/100\n",
      " - 0s - loss: 1.5391 - accuracy: 0.3438 - val_loss: 1.5626 - val_accuracy: 0.2917\n",
      "\n",
      "Epoch 00006: val_loss improved from 1.62567 to 1.56258, saving model to model/iris_deep.hdf5\n",
      "Epoch 7/100\n",
      " - 0s - loss: 1.4770 - accuracy: 0.3438 - val_loss: 1.5031 - val_accuracy: 0.2917\n",
      "\n",
      "Epoch 00007: val_loss improved from 1.56258 to 1.50306, saving model to model/iris_deep.hdf5\n",
      "Epoch 8/100\n",
      " - 0s - loss: 1.4197 - accuracy: 0.3438 - val_loss: 1.4499 - val_accuracy: 0.2917\n",
      "\n",
      "Epoch 00008: val_loss improved from 1.50306 to 1.44995, saving model to model/iris_deep.hdf5\n",
      "Epoch 9/100\n",
      " - 0s - loss: 1.3683 - accuracy: 0.3438 - val_loss: 1.4012 - val_accuracy: 0.2917\n",
      "\n",
      "Epoch 00009: val_loss improved from 1.44995 to 1.40119, saving model to model/iris_deep.hdf5\n",
      "Epoch 10/100\n",
      " - 0s - loss: 1.3221 - accuracy: 0.3438 - val_loss: 1.3548 - val_accuracy: 0.2917\n",
      "\n",
      "Epoch 00010: val_loss improved from 1.40119 to 1.35477, saving model to model/iris_deep.hdf5\n",
      "Epoch 11/100\n",
      " - 0s - loss: 1.2797 - accuracy: 0.3438 - val_loss: 1.3123 - val_accuracy: 0.2917\n",
      "\n",
      "Epoch 00011: val_loss improved from 1.35477 to 1.31234, saving model to model/iris_deep.hdf5\n",
      "Epoch 12/100\n",
      " - 0s - loss: 1.2418 - accuracy: 0.3438 - val_loss: 1.2758 - val_accuracy: 0.2917\n",
      "\n",
      "Epoch 00012: val_loss improved from 1.31234 to 1.27578, saving model to model/iris_deep.hdf5\n",
      "Epoch 13/100\n",
      " - 0s - loss: 1.2034 - accuracy: 0.3438 - val_loss: 1.2424 - val_accuracy: 0.2917\n",
      "\n",
      "Epoch 00013: val_loss improved from 1.27578 to 1.24243, saving model to model/iris_deep.hdf5\n",
      "Epoch 14/100\n",
      " - 0s - loss: 1.1705 - accuracy: 0.3438 - val_loss: 1.2109 - val_accuracy: 0.2917\n",
      "\n",
      "Epoch 00014: val_loss improved from 1.24243 to 1.21087, saving model to model/iris_deep.hdf5\n",
      "Epoch 15/100\n",
      " - 0s - loss: 1.1436 - accuracy: 0.3438 - val_loss: 1.1802 - val_accuracy: 0.2917\n",
      "\n",
      "Epoch 00015: val_loss improved from 1.21087 to 1.18017, saving model to model/iris_deep.hdf5\n",
      "Epoch 16/100\n",
      " - 0s - loss: 1.1139 - accuracy: 0.3438 - val_loss: 1.1527 - val_accuracy: 0.2917\n",
      "\n",
      "Epoch 00016: val_loss improved from 1.18017 to 1.15272, saving model to model/iris_deep.hdf5\n",
      "Epoch 17/100\n",
      " - 0s - loss: 1.0911 - accuracy: 0.3438 - val_loss: 1.1266 - val_accuracy: 0.2917\n",
      "\n",
      "Epoch 00017: val_loss improved from 1.15272 to 1.12659, saving model to model/iris_deep.hdf5\n",
      "Epoch 18/100\n",
      " - 0s - loss: 1.0669 - accuracy: 0.3438 - val_loss: 1.1026 - val_accuracy: 0.2917\n",
      "\n",
      "Epoch 00018: val_loss improved from 1.12659 to 1.10263, saving model to model/iris_deep.hdf5\n",
      "Epoch 19/100\n",
      " - 0s - loss: 1.0441 - accuracy: 0.3438 - val_loss: 1.0810 - val_accuracy: 0.2917\n",
      "\n",
      "Epoch 00019: val_loss improved from 1.10263 to 1.08098, saving model to model/iris_deep.hdf5\n",
      "Epoch 20/100\n",
      " - 0s - loss: 1.0231 - accuracy: 0.3438 - val_loss: 1.0590 - val_accuracy: 0.3333\n",
      "\n",
      "Epoch 00020: val_loss improved from 1.08098 to 1.05899, saving model to model/iris_deep.hdf5\n",
      "Epoch 21/100\n",
      " - 0s - loss: 1.0033 - accuracy: 0.3438 - val_loss: 1.0395 - val_accuracy: 0.3333\n",
      "\n",
      "Epoch 00021: val_loss improved from 1.05899 to 1.03951, saving model to model/iris_deep.hdf5\n",
      "Epoch 22/100\n",
      " - 0s - loss: 0.9855 - accuracy: 0.4062 - val_loss: 1.0212 - val_accuracy: 0.3750\n",
      "\n",
      "Epoch 00022: val_loss improved from 1.03951 to 1.02121, saving model to model/iris_deep.hdf5\n",
      "Epoch 23/100\n",
      " - 0s - loss: 0.9695 - accuracy: 0.5417 - val_loss: 1.0050 - val_accuracy: 0.5000\n",
      "\n",
      "Epoch 00023: val_loss improved from 1.02121 to 1.00498, saving model to model/iris_deep.hdf5\n",
      "Epoch 24/100\n",
      " - 0s - loss: 0.9518 - accuracy: 0.6354 - val_loss: 0.9863 - val_accuracy: 0.5417\n",
      "\n",
      "Epoch 00024: val_loss improved from 1.00498 to 0.98634, saving model to model/iris_deep.hdf5\n",
      "Epoch 25/100\n",
      " - 0s - loss: 0.9362 - accuracy: 0.6667 - val_loss: 0.9681 - val_accuracy: 0.5833\n",
      "\n",
      "Epoch 00025: val_loss improved from 0.98634 to 0.96805, saving model to model/iris_deep.hdf5\n",
      "Epoch 26/100\n",
      " - 0s - loss: 0.9208 - accuracy: 0.6875 - val_loss: 0.9496 - val_accuracy: 0.5833\n",
      "\n",
      "Epoch 00026: val_loss improved from 0.96805 to 0.94960, saving model to model/iris_deep.hdf5\n",
      "Epoch 27/100\n",
      " - 0s - loss: 0.9063 - accuracy: 0.6875 - val_loss: 0.9318 - val_accuracy: 0.5833\n",
      "\n",
      "Epoch 00027: val_loss improved from 0.94960 to 0.93179, saving model to model/iris_deep.hdf5\n",
      "Epoch 28/100\n",
      " - 0s - loss: 0.8915 - accuracy: 0.6875 - val_loss: 0.9140 - val_accuracy: 0.5833\n",
      "\n",
      "Epoch 00028: val_loss improved from 0.93179 to 0.91403, saving model to model/iris_deep.hdf5\n",
      "Epoch 29/100\n",
      " - 0s - loss: 0.8773 - accuracy: 0.6875 - val_loss: 0.8963 - val_accuracy: 0.5833\n",
      "\n",
      "Epoch 00029: val_loss improved from 0.91403 to 0.89635, saving model to model/iris_deep.hdf5\n",
      "Epoch 30/100\n",
      " - 0s - loss: 0.8631 - accuracy: 0.6875 - val_loss: 0.8789 - val_accuracy: 0.5833\n",
      "\n",
      "Epoch 00030: val_loss improved from 0.89635 to 0.87892, saving model to model/iris_deep.hdf5\n",
      "Epoch 31/100\n",
      " - 0s - loss: 0.8487 - accuracy: 0.6875 - val_loss: 0.8630 - val_accuracy: 0.5833\n",
      "\n",
      "Epoch 00031: val_loss improved from 0.87892 to 0.86299, saving model to model/iris_deep.hdf5\n",
      "Epoch 32/100\n",
      " - 0s - loss: 0.8349 - accuracy: 0.6875 - val_loss: 0.8477 - val_accuracy: 0.5833\n",
      "\n",
      "Epoch 00032: val_loss improved from 0.86299 to 0.84771, saving model to model/iris_deep.hdf5\n",
      "Epoch 33/100\n",
      " - 0s - loss: 0.8206 - accuracy: 0.6875 - val_loss: 0.8323 - val_accuracy: 0.5833\n",
      "\n",
      "Epoch 00033: val_loss improved from 0.84771 to 0.83230, saving model to model/iris_deep.hdf5\n",
      "Epoch 34/100\n",
      " - 0s - loss: 0.8070 - accuracy: 0.6979 - val_loss: 0.8159 - val_accuracy: 0.6667\n",
      "\n",
      "Epoch 00034: val_loss improved from 0.83230 to 0.81593, saving model to model/iris_deep.hdf5\n",
      "Epoch 35/100\n",
      " - 0s - loss: 0.7936 - accuracy: 0.7500 - val_loss: 0.8007 - val_accuracy: 0.8750\n",
      "\n",
      "Epoch 00035: val_loss improved from 0.81593 to 0.80073, saving model to model/iris_deep.hdf5\n",
      "Epoch 36/100\n",
      " - 0s - loss: 0.7786 - accuracy: 0.8229 - val_loss: 0.7878 - val_accuracy: 0.8750\n",
      "\n",
      "Epoch 00036: val_loss improved from 0.80073 to 0.78777, saving model to model/iris_deep.hdf5\n",
      "Epoch 37/100\n",
      " - 0s - loss: 0.7655 - accuracy: 0.8750 - val_loss: 0.7749 - val_accuracy: 0.8750\n",
      "\n",
      "Epoch 00037: val_loss improved from 0.78777 to 0.77491, saving model to model/iris_deep.hdf5\n",
      "Epoch 38/100\n",
      " - 0s - loss: 0.7529 - accuracy: 0.8542 - val_loss: 0.7626 - val_accuracy: 0.8333\n",
      "\n",
      "Epoch 00038: val_loss improved from 0.77491 to 0.76264, saving model to model/iris_deep.hdf5\n",
      "Epoch 39/100\n",
      " - 0s - loss: 0.7415 - accuracy: 0.8333 - val_loss: 0.7514 - val_accuracy: 0.8333\n",
      "\n",
      "Epoch 00039: val_loss improved from 0.76264 to 0.75141, saving model to model/iris_deep.hdf5\n",
      "Epoch 40/100\n",
      " - 0s - loss: 0.7297 - accuracy: 0.8333 - val_loss: 0.7389 - val_accuracy: 0.8333\n",
      "\n",
      "Epoch 00040: val_loss improved from 0.75141 to 0.73890, saving model to model/iris_deep.hdf5\n",
      "Epoch 41/100\n",
      " - 0s - loss: 0.7189 - accuracy: 0.7708 - val_loss: 0.7268 - val_accuracy: 0.7917\n",
      "\n",
      "Epoch 00041: val_loss improved from 0.73890 to 0.72679, saving model to model/iris_deep.hdf5\n",
      "Epoch 42/100\n",
      " - 0s - loss: 0.7083 - accuracy: 0.7083 - val_loss: 0.7158 - val_accuracy: 0.7500\n",
      "\n",
      "Epoch 00042: val_loss improved from 0.72679 to 0.71579, saving model to model/iris_deep.hdf5\n",
      "Epoch 43/100\n",
      " - 0s - loss: 0.6983 - accuracy: 0.7083 - val_loss: 0.7053 - val_accuracy: 0.7083\n",
      "\n",
      "Epoch 00043: val_loss improved from 0.71579 to 0.70529, saving model to model/iris_deep.hdf5\n",
      "Epoch 44/100\n",
      " - 0s - loss: 0.6885 - accuracy: 0.7083 - val_loss: 0.6952 - val_accuracy: 0.7083\n"
     ]
    },
    {
     "name": "stdout",
     "output_type": "stream",
     "text": [
      "\n",
      "Epoch 00044: val_loss improved from 0.70529 to 0.69520, saving model to model/iris_deep.hdf5\n",
      "Epoch 45/100\n",
      " - 0s - loss: 0.6788 - accuracy: 0.7083 - val_loss: 0.6868 - val_accuracy: 0.7917\n",
      "\n",
      "Epoch 00045: val_loss improved from 0.69520 to 0.68677, saving model to model/iris_deep.hdf5\n",
      "Epoch 46/100\n",
      " - 0s - loss: 0.6693 - accuracy: 0.7083 - val_loss: 0.6792 - val_accuracy: 0.8333\n",
      "\n",
      "Epoch 00046: val_loss improved from 0.68677 to 0.67917, saving model to model/iris_deep.hdf5\n",
      "Epoch 47/100\n",
      " - 0s - loss: 0.6603 - accuracy: 0.8125 - val_loss: 0.6726 - val_accuracy: 0.8333\n",
      "\n",
      "Epoch 00047: val_loss improved from 0.67917 to 0.67260, saving model to model/iris_deep.hdf5\n",
      "Epoch 48/100\n",
      " - 0s - loss: 0.6522 - accuracy: 0.8854 - val_loss: 0.6669 - val_accuracy: 0.8750\n",
      "\n",
      "Epoch 00048: val_loss improved from 0.67260 to 0.66693, saving model to model/iris_deep.hdf5\n",
      "Epoch 49/100\n",
      " - 0s - loss: 0.6439 - accuracy: 0.8958 - val_loss: 0.6596 - val_accuracy: 1.0000\n",
      "\n",
      "Epoch 00049: val_loss improved from 0.66693 to 0.65956, saving model to model/iris_deep.hdf5\n",
      "Epoch 50/100\n",
      " - 0s - loss: 0.6360 - accuracy: 0.9062 - val_loss: 0.6504 - val_accuracy: 0.9167\n",
      "\n",
      "Epoch 00050: val_loss improved from 0.65956 to 0.65038, saving model to model/iris_deep.hdf5\n",
      "Epoch 51/100\n",
      " - 0s - loss: 0.6277 - accuracy: 0.8958 - val_loss: 0.6420 - val_accuracy: 0.8750\n",
      "\n",
      "Epoch 00051: val_loss improved from 0.65038 to 0.64195, saving model to model/iris_deep.hdf5\n",
      "Epoch 52/100\n",
      " - 0s - loss: 0.6200 - accuracy: 0.8958 - val_loss: 0.6335 - val_accuracy: 0.8750\n",
      "\n",
      "Epoch 00052: val_loss improved from 0.64195 to 0.63346, saving model to model/iris_deep.hdf5\n",
      "Epoch 53/100\n",
      " - 0s - loss: 0.6124 - accuracy: 0.8854 - val_loss: 0.6248 - val_accuracy: 0.8333\n",
      "\n",
      "Epoch 00053: val_loss improved from 0.63346 to 0.62481, saving model to model/iris_deep.hdf5\n",
      "Epoch 54/100\n",
      " - 0s - loss: 0.6051 - accuracy: 0.8646 - val_loss: 0.6166 - val_accuracy: 0.8333\n",
      "\n",
      "Epoch 00054: val_loss improved from 0.62481 to 0.61660, saving model to model/iris_deep.hdf5\n",
      "Epoch 55/100\n",
      " - 0s - loss: 0.5976 - accuracy: 0.8333 - val_loss: 0.6086 - val_accuracy: 0.8333\n",
      "\n",
      "Epoch 00055: val_loss improved from 0.61660 to 0.60863, saving model to model/iris_deep.hdf5\n",
      "Epoch 56/100\n",
      " - 0s - loss: 0.5908 - accuracy: 0.7917 - val_loss: 0.6004 - val_accuracy: 0.8333\n",
      "\n",
      "Epoch 00056: val_loss improved from 0.60863 to 0.60037, saving model to model/iris_deep.hdf5\n",
      "Epoch 57/100\n",
      " - 0s - loss: 0.5843 - accuracy: 0.7604 - val_loss: 0.5928 - val_accuracy: 0.8333\n",
      "\n",
      "Epoch 00057: val_loss improved from 0.60037 to 0.59277, saving model to model/iris_deep.hdf5\n",
      "Epoch 58/100\n",
      " - 0s - loss: 0.5779 - accuracy: 0.7292 - val_loss: 0.5865 - val_accuracy: 0.8333\n",
      "\n",
      "Epoch 00058: val_loss improved from 0.59277 to 0.58653, saving model to model/iris_deep.hdf5\n",
      "Epoch 59/100\n",
      " - 0s - loss: 0.5716 - accuracy: 0.7604 - val_loss: 0.5809 - val_accuracy: 0.8333\n",
      "\n",
      "Epoch 00059: val_loss improved from 0.58653 to 0.58087, saving model to model/iris_deep.hdf5\n",
      "Epoch 60/100\n",
      " - 0s - loss: 0.5657 - accuracy: 0.8021 - val_loss: 0.5770 - val_accuracy: 0.8333\n",
      "\n",
      "Epoch 00060: val_loss improved from 0.58087 to 0.57704, saving model to model/iris_deep.hdf5\n",
      "Epoch 61/100\n",
      " - 0s - loss: 0.5597 - accuracy: 0.8750 - val_loss: 0.5740 - val_accuracy: 0.9167\n",
      "\n",
      "Epoch 00061: val_loss improved from 0.57704 to 0.57395, saving model to model/iris_deep.hdf5\n",
      "Epoch 62/100\n",
      " - 0s - loss: 0.5547 - accuracy: 0.9062 - val_loss: 0.5701 - val_accuracy: 1.0000\n",
      "\n",
      "Epoch 00062: val_loss improved from 0.57395 to 0.57015, saving model to model/iris_deep.hdf5\n",
      "Epoch 63/100\n",
      " - 0s - loss: 0.5490 - accuracy: 0.9062 - val_loss: 0.5632 - val_accuracy: 1.0000\n",
      "\n",
      "Epoch 00063: val_loss improved from 0.57015 to 0.56322, saving model to model/iris_deep.hdf5\n",
      "Epoch 64/100\n",
      " - 0s - loss: 0.5436 - accuracy: 0.8958 - val_loss: 0.5572 - val_accuracy: 1.0000\n",
      "\n",
      "Epoch 00064: val_loss improved from 0.56322 to 0.55719, saving model to model/iris_deep.hdf5\n",
      "Epoch 65/100\n",
      " - 0s - loss: 0.5384 - accuracy: 0.8958 - val_loss: 0.5520 - val_accuracy: 1.0000\n",
      "\n",
      "Epoch 00065: val_loss improved from 0.55719 to 0.55203, saving model to model/iris_deep.hdf5\n",
      "Epoch 66/100\n",
      " - 0s - loss: 0.5334 - accuracy: 0.8958 - val_loss: 0.5468 - val_accuracy: 1.0000\n",
      "\n",
      "Epoch 00066: val_loss improved from 0.55203 to 0.54679, saving model to model/iris_deep.hdf5\n",
      "Epoch 67/100\n",
      " - 0s - loss: 0.5287 - accuracy: 0.8854 - val_loss: 0.5415 - val_accuracy: 0.9167\n",
      "\n",
      "Epoch 00067: val_loss improved from 0.54679 to 0.54152, saving model to model/iris_deep.hdf5\n",
      "Epoch 68/100\n",
      " - 0s - loss: 0.5240 - accuracy: 0.8854 - val_loss: 0.5372 - val_accuracy: 1.0000\n",
      "\n",
      "Epoch 00068: val_loss improved from 0.54152 to 0.53721, saving model to model/iris_deep.hdf5\n",
      "Epoch 69/100\n",
      " - 0s - loss: 0.5195 - accuracy: 0.9062 - val_loss: 0.5339 - val_accuracy: 1.0000\n",
      "\n",
      "Epoch 00069: val_loss improved from 0.53721 to 0.53393, saving model to model/iris_deep.hdf5\n",
      "Epoch 70/100\n",
      " - 0s - loss: 0.5148 - accuracy: 0.9167 - val_loss: 0.5304 - val_accuracy: 1.0000\n",
      "\n",
      "Epoch 00070: val_loss improved from 0.53393 to 0.53045, saving model to model/iris_deep.hdf5\n",
      "Epoch 71/100\n",
      " - 0s - loss: 0.5111 - accuracy: 0.9271 - val_loss: 0.5269 - val_accuracy: 1.0000\n",
      "\n",
      "Epoch 00071: val_loss improved from 0.53045 to 0.52693, saving model to model/iris_deep.hdf5\n",
      "Epoch 72/100\n",
      " - 0s - loss: 0.5065 - accuracy: 0.9375 - val_loss: 0.5214 - val_accuracy: 1.0000\n",
      "\n",
      "Epoch 00072: val_loss improved from 0.52693 to 0.52144, saving model to model/iris_deep.hdf5\n",
      "Epoch 73/100\n",
      " - 0s - loss: 0.5024 - accuracy: 0.9167 - val_loss: 0.5142 - val_accuracy: 1.0000\n",
      "\n",
      "Epoch 00073: val_loss improved from 0.52144 to 0.51419, saving model to model/iris_deep.hdf5\n",
      "Epoch 74/100\n",
      " - 0s - loss: 0.4979 - accuracy: 0.8958 - val_loss: 0.5087 - val_accuracy: 1.0000\n",
      "\n",
      "Epoch 00074: val_loss improved from 0.51419 to 0.50872, saving model to model/iris_deep.hdf5\n",
      "Epoch 75/100\n",
      " - 0s - loss: 0.4941 - accuracy: 0.8854 - val_loss: 0.5037 - val_accuracy: 1.0000\n",
      "\n",
      "Epoch 00075: val_loss improved from 0.50872 to 0.50371, saving model to model/iris_deep.hdf5\n",
      "Epoch 76/100\n",
      " - 0s - loss: 0.4899 - accuracy: 0.8854 - val_loss: 0.4983 - val_accuracy: 0.9167\n",
      "\n",
      "Epoch 00076: val_loss improved from 0.50371 to 0.49827, saving model to model/iris_deep.hdf5\n",
      "Epoch 77/100\n",
      " - 0s - loss: 0.4862 - accuracy: 0.8854 - val_loss: 0.4929 - val_accuracy: 0.8750\n",
      "\n",
      "Epoch 00077: val_loss improved from 0.49827 to 0.49286, saving model to model/iris_deep.hdf5\n",
      "Epoch 78/100\n",
      " - 0s - loss: 0.4828 - accuracy: 0.8542 - val_loss: 0.4876 - val_accuracy: 0.8333\n",
      "\n",
      "Epoch 00078: val_loss improved from 0.49286 to 0.48763, saving model to model/iris_deep.hdf5\n",
      "Epoch 79/100\n",
      " - 0s - loss: 0.4790 - accuracy: 0.8542 - val_loss: 0.4840 - val_accuracy: 0.8750\n",
      "\n",
      "Epoch 00079: val_loss improved from 0.48763 to 0.48402, saving model to model/iris_deep.hdf5\n",
      "Epoch 80/100\n",
      " - 0s - loss: 0.4752 - accuracy: 0.8646 - val_loss: 0.4809 - val_accuracy: 0.9583\n",
      "\n",
      "Epoch 00080: val_loss improved from 0.48402 to 0.48092, saving model to model/iris_deep.hdf5\n",
      "Epoch 81/100\n",
      " - 0s - loss: 0.4715 - accuracy: 0.8854 - val_loss: 0.4785 - val_accuracy: 1.0000\n",
      "\n",
      "Epoch 00081: val_loss improved from 0.48092 to 0.47852, saving model to model/iris_deep.hdf5\n",
      "Epoch 82/100\n",
      " - 0s - loss: 0.4678 - accuracy: 0.8854 - val_loss: 0.4755 - val_accuracy: 1.0000\n",
      "\n",
      "Epoch 00082: val_loss improved from 0.47852 to 0.47554, saving model to model/iris_deep.hdf5\n",
      "Epoch 83/100\n",
      " - 0s - loss: 0.4644 - accuracy: 0.9167 - val_loss: 0.4730 - val_accuracy: 1.0000\n",
      "\n",
      "Epoch 00083: val_loss improved from 0.47554 to 0.47297, saving model to model/iris_deep.hdf5\n",
      "Epoch 84/100\n",
      " - 0s - loss: 0.4612 - accuracy: 0.9167 - val_loss: 0.4680 - val_accuracy: 1.0000\n",
      "\n",
      "Epoch 00084: val_loss improved from 0.47297 to 0.46796, saving model to model/iris_deep.hdf5\n",
      "Epoch 85/100\n",
      " - 0s - loss: 0.4577 - accuracy: 0.9167 - val_loss: 0.4644 - val_accuracy: 1.0000\n",
      "\n",
      "Epoch 00085: val_loss improved from 0.46796 to 0.46438, saving model to model/iris_deep.hdf5\n",
      "Epoch 86/100\n",
      " - 0s - loss: 0.4545 - accuracy: 0.9167 - val_loss: 0.4607 - val_accuracy: 1.0000\n",
      "\n",
      "Epoch 00086: val_loss improved from 0.46438 to 0.46072, saving model to model/iris_deep.hdf5\n",
      "Epoch 87/100\n",
      " - 0s - loss: 0.4511 - accuracy: 0.9167 - val_loss: 0.4577 - val_accuracy: 1.0000\n",
      "\n",
      "Epoch 00087: val_loss improved from 0.46072 to 0.45769, saving model to model/iris_deep.hdf5\n"
     ]
    },
    {
     "name": "stdout",
     "output_type": "stream",
     "text": [
      "Epoch 88/100\n",
      " - 0s - loss: 0.4480 - accuracy: 0.9271 - val_loss: 0.4548 - val_accuracy: 1.0000\n",
      "\n",
      "Epoch 00088: val_loss improved from 0.45769 to 0.45482, saving model to model/iris_deep.hdf5\n",
      "Epoch 89/100\n",
      " - 0s - loss: 0.4448 - accuracy: 0.9375 - val_loss: 0.4529 - val_accuracy: 1.0000\n",
      "\n",
      "Epoch 00089: val_loss improved from 0.45482 to 0.45287, saving model to model/iris_deep.hdf5\n",
      "Epoch 90/100\n",
      " - 0s - loss: 0.4421 - accuracy: 0.9375 - val_loss: 0.4509 - val_accuracy: 1.0000\n",
      "\n",
      "Epoch 00090: val_loss improved from 0.45287 to 0.45094, saving model to model/iris_deep.hdf5\n",
      "Epoch 91/100\n",
      " - 0s - loss: 0.4388 - accuracy: 0.9479 - val_loss: 0.4474 - val_accuracy: 1.0000\n",
      "\n",
      "Epoch 00091: val_loss improved from 0.45094 to 0.44736, saving model to model/iris_deep.hdf5\n",
      "Epoch 92/100\n",
      " - 0s - loss: 0.4358 - accuracy: 0.9479 - val_loss: 0.4426 - val_accuracy: 1.0000\n",
      "\n",
      "Epoch 00092: val_loss improved from 0.44736 to 0.44265, saving model to model/iris_deep.hdf5\n",
      "Epoch 93/100\n",
      " - 0s - loss: 0.4327 - accuracy: 0.9479 - val_loss: 0.4383 - val_accuracy: 1.0000\n",
      "\n",
      "Epoch 00093: val_loss improved from 0.44265 to 0.43830, saving model to model/iris_deep.hdf5\n",
      "Epoch 94/100\n",
      " - 0s - loss: 0.4298 - accuracy: 0.9375 - val_loss: 0.4339 - val_accuracy: 1.0000\n",
      "\n",
      "Epoch 00094: val_loss improved from 0.43830 to 0.43393, saving model to model/iris_deep.hdf5\n",
      "Epoch 95/100\n",
      " - 0s - loss: 0.4271 - accuracy: 0.9375 - val_loss: 0.4296 - val_accuracy: 1.0000\n",
      "\n",
      "Epoch 00095: val_loss improved from 0.43393 to 0.42958, saving model to model/iris_deep.hdf5\n",
      "Epoch 96/100\n",
      " - 0s - loss: 0.4247 - accuracy: 0.9375 - val_loss: 0.4258 - val_accuracy: 1.0000\n",
      "\n",
      "Epoch 00096: val_loss improved from 0.42958 to 0.42576, saving model to model/iris_deep.hdf5\n",
      "Epoch 97/100\n",
      " - 0s - loss: 0.4218 - accuracy: 0.9271 - val_loss: 0.4221 - val_accuracy: 1.0000\n",
      "\n",
      "Epoch 00097: val_loss improved from 0.42576 to 0.42206, saving model to model/iris_deep.hdf5\n",
      "Epoch 98/100\n",
      " - 0s - loss: 0.4193 - accuracy: 0.9167 - val_loss: 0.4191 - val_accuracy: 1.0000\n",
      "\n",
      "Epoch 00098: val_loss improved from 0.42206 to 0.41912, saving model to model/iris_deep.hdf5\n",
      "Epoch 99/100\n",
      " - 0s - loss: 0.4172 - accuracy: 0.9271 - val_loss: 0.4173 - val_accuracy: 1.0000\n",
      "\n",
      "Epoch 00099: val_loss improved from 0.41912 to 0.41726, saving model to model/iris_deep.hdf5\n",
      "Epoch 100/100\n",
      " - 0s - loss: 0.4141 - accuracy: 0.9375 - val_loss: 0.4127 - val_accuracy: 1.0000\n",
      "\n",
      "Epoch 00100: val_loss improved from 0.41726 to 0.41271, saving model to model/iris_deep.hdf5\n"
     ]
    },
    {
     "data": {
      "text/plain": [
       "<keras.callbacks.callbacks.History at 0x2503d399a08>"
      ]
     },
     "execution_count": 78,
     "metadata": {},
     "output_type": "execute_result"
    }
   ],
   "source": [
    "model.fit(x_train, Y_encoded, epochs = 100, batch_size = 30, verbose = 2,\n",
    "           validation_split = 0.2, callbacks = [checkpointer])"
   ]
  },
  {
   "cell_type": "code",
   "execution_count": 79,
   "metadata": {},
   "outputs": [],
   "source": [
    "from keras.models import load_model\n",
    "model_deep = load_model('model/iris_deep.hdf5')"
   ]
  },
  {
   "cell_type": "code",
   "execution_count": 81,
   "metadata": {},
   "outputs": [
    {
     "name": "stdout",
     "output_type": "stream",
     "text": [
      "\r",
      "30/30 [==============================] - 0s 33us/step\n"
     ]
    },
    {
     "data": {
      "text/plain": [
       "0.9333333373069763"
      ]
     },
     "execution_count": 81,
     "metadata": {},
     "output_type": "execute_result"
    }
   ],
   "source": [
    "model.evaluate(x_test, keras.utils.to_categorical(y_test))[1]"
   ]
  },
  {
   "cell_type": "code",
   "execution_count": 86,
   "metadata": {},
   "outputs": [
    {
     "data": {
      "text/plain": [
       "2"
      ]
     },
     "execution_count": 86,
     "metadata": {},
     "output_type": "execute_result"
    }
   ],
   "source": [
    "model_deep.predict_classes(test_data)[0]"
   ]
  },
  {
   "cell_type": "code",
   "execution_count": 83,
   "metadata": {},
   "outputs": [
    {
     "data": {
      "text/plain": [
       "array([[0.01212918, 0.38598475, 0.601886  ]], dtype=float32)"
      ]
     },
     "execution_count": 83,
     "metadata": {},
     "output_type": "execute_result"
    }
   ],
   "source": [
    "model_deep.predict(test_data)"
   ]
  },
  {
   "cell_type": "code",
   "execution_count": 84,
   "metadata": {},
   "outputs": [
    {
     "data": {
      "text/plain": [
       "2"
      ]
     },
     "execution_count": 84,
     "metadata": {},
     "output_type": "execute_result"
    }
   ],
   "source": [
    "np.argmax(model_deep.predict(test_data)[0])"
   ]
  },
  {
   "cell_type": "code",
   "execution_count": null,
   "metadata": {},
   "outputs": [],
   "source": []
  }
 ],
 "metadata": {
  "kernelspec": {
   "display_name": "Python 3",
   "language": "python",
   "name": "python3"
  },
  "language_info": {
   "codemirror_mode": {
    "name": "ipython",
    "version": 3
   },
   "file_extension": ".py",
   "mimetype": "text/x-python",
   "name": "python",
   "nbconvert_exporter": "python",
   "pygments_lexer": "ipython3",
   "version": "3.7.7"
  }
 },
 "nbformat": 4,
 "nbformat_minor": 4
}
